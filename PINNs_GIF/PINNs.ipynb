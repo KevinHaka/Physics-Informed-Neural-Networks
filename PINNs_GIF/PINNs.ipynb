{
 "cells": [
  {
   "cell_type": "code",
   "execution_count": 6,
   "metadata": {},
   "outputs": [],
   "source": [
    "# Import necessary libraries\n",
    "import tensorflow as tf\n",
    "import numpy as np\n",
    "\n",
    "import matplotlib.pyplot as plt\n",
    "import seaborn as sns\n",
    "\n",
    "from io import BytesIO\n",
    "import imageio.v2 as imageio\n",
    "\n",
    "# Set the theme for seaborn plots\n",
    "sns.set_theme()"
   ]
  },
  {
   "cell_type": "code",
   "execution_count": 7,
   "metadata": {},
   "outputs": [],
   "source": [
    "# Define the oscillator function\n",
    "def oscillator(t, x0, u0, gamma, omega0):\n",
    "    # Underdamped case\n",
    "    if omega0 > gamma:\n",
    "        omega = np.sqrt(omega0**2 - gamma**2)\n",
    "        delta = np.arctan((u0 + gamma * x0) / (omega * x0))\n",
    "        A = x0 / np.cos(delta)\n",
    "        x = A * np.exp(-gamma * t) * np.cos(omega * t - delta)\n",
    "    # Overdamped case\n",
    "    elif omega0 < gamma:\n",
    "        omega = np.sqrt(gamma**2 - omega0**2)\n",
    "        A = ((omega + gamma) * x0 + u0) / (2 * omega)\n",
    "        B = ((omega - gamma) * x0 - u0) / (2 * omega)\n",
    "        x = A * np.exp((-gamma + omega) * t) + B * np.exp((-gamma - omega) * t)\n",
    "    # Critically damped case\n",
    "    else:\n",
    "        A = x0\n",
    "        B = u0 + gamma * x0\n",
    "        x = (A + B * t) * np.exp(-gamma * t)\n",
    "        \n",
    "    return x\n",
    "\n",
    "# Define the ODE system function\n",
    "@tf.function\n",
    "def ode_system(t, model, gamma, omega0, ic_x_t0, ic_dx_t0):\n",
    "    # Convert initial conditions to tensors\n",
    "    ic_x_t0 = tf.constant(ic_x_t0, dtype=tf.float32)\n",
    "    ic_dx_t0 = tf.constant(ic_dx_t0, dtype=tf.float32)\n",
    "\n",
    "    # Use GradientTape to record operations for automatic differentiation\n",
    "    with tf.GradientTape() as g:\n",
    "        g.watch(t)\n",
    "\n",
    "        with tf.GradientTape() as gg:\n",
    "            gg.watch(t)\n",
    "\n",
    "            # Predict the position using the model\n",
    "            x = model(t)\n",
    "\n",
    "            # Compute the first derivative of x with respect to t\n",
    "            dx_dt = gg.gradient(x, t)\n",
    "        # Compute the second derivative of x with respect to t\n",
    "        d2x_dt2 = g.gradient(dx_dt, t)\n",
    "\n",
    "    # Compute the ODE loss\n",
    "    ode_loss = d2x_dt2 + 2 * gamma * dx_dt + omega0**2 * x\n",
    "\n",
    "    # Compute the initial condition losses\n",
    "    IC_loss_x = x[0] - ic_x_t0\n",
    "    IC_loss_dx = dx_dt[0] - ic_dx_t0\n",
    "\n",
    "    # Compute the total loss\n",
    "    total_loss = 0.0001 * tf.reduce_mean(tf.square(ode_loss)) + tf.reduce_mean(tf.square(IC_loss_x)) + tf.reduce_mean(tf.square(IC_loss_dx))\n",
    "    return total_loss"
   ]
  },
  {
   "cell_type": "code",
   "execution_count": 8,
   "metadata": {},
   "outputs": [
    {
     "data": {
      "text/html": [
       "<pre style=\"white-space:pre;overflow-x:auto;line-height:normal;font-family:Menlo,'DejaVu Sans Mono',consolas,'Courier New',monospace\"><span style=\"font-weight: bold\">Model: \"NN\"</span>\n",
       "</pre>\n"
      ],
      "text/plain": [
       "\u001b[1mModel: \"NN\"\u001b[0m\n"
      ]
     },
     "metadata": {},
     "output_type": "display_data"
    },
    {
     "data": {
      "text/html": [
       "<pre style=\"white-space:pre;overflow-x:auto;line-height:normal;font-family:Menlo,'DejaVu Sans Mono',consolas,'Courier New',monospace\">┏━━━━━━━━━━━━━━━━━━━━━━━━━━━━━━━━━┳━━━━━━━━━━━━━━━━━━━━━━━━┳━━━━━━━━━━━━━━━┓\n",
       "┃<span style=\"font-weight: bold\"> Layer (type)                    </span>┃<span style=\"font-weight: bold\"> Output Shape           </span>┃<span style=\"font-weight: bold\">       Param # </span>┃\n",
       "┡━━━━━━━━━━━━━━━━━━━━━━━━━━━━━━━━━╇━━━━━━━━━━━━━━━━━━━━━━━━╇━━━━━━━━━━━━━━━┩\n",
       "│ dense (<span style=\"color: #0087ff; text-decoration-color: #0087ff\">Dense</span>)                   │ (<span style=\"color: #00d7ff; text-decoration-color: #00d7ff\">None</span>, <span style=\"color: #00af00; text-decoration-color: #00af00\">32</span>)             │            <span style=\"color: #00af00; text-decoration-color: #00af00\">64</span> │\n",
       "├─────────────────────────────────┼────────────────────────┼───────────────┤\n",
       "│ dense_1 (<span style=\"color: #0087ff; text-decoration-color: #0087ff\">Dense</span>)                 │ (<span style=\"color: #00d7ff; text-decoration-color: #00d7ff\">None</span>, <span style=\"color: #00af00; text-decoration-color: #00af00\">32</span>)             │         <span style=\"color: #00af00; text-decoration-color: #00af00\">1,056</span> │\n",
       "├─────────────────────────────────┼────────────────────────┼───────────────┤\n",
       "│ dense_2 (<span style=\"color: #0087ff; text-decoration-color: #0087ff\">Dense</span>)                 │ (<span style=\"color: #00d7ff; text-decoration-color: #00d7ff\">None</span>, <span style=\"color: #00af00; text-decoration-color: #00af00\">32</span>)             │         <span style=\"color: #00af00; text-decoration-color: #00af00\">1,056</span> │\n",
       "├─────────────────────────────────┼────────────────────────┼───────────────┤\n",
       "│ dense_3 (<span style=\"color: #0087ff; text-decoration-color: #0087ff\">Dense</span>)                 │ (<span style=\"color: #00d7ff; text-decoration-color: #00d7ff\">None</span>, <span style=\"color: #00af00; text-decoration-color: #00af00\">1</span>)              │            <span style=\"color: #00af00; text-decoration-color: #00af00\">33</span> │\n",
       "└─────────────────────────────────┴────────────────────────┴───────────────┘\n",
       "</pre>\n"
      ],
      "text/plain": [
       "┏━━━━━━━━━━━━━━━━━━━━━━━━━━━━━━━━━┳━━━━━━━━━━━━━━━━━━━━━━━━┳━━━━━━━━━━━━━━━┓\n",
       "┃\u001b[1m \u001b[0m\u001b[1mLayer (type)                   \u001b[0m\u001b[1m \u001b[0m┃\u001b[1m \u001b[0m\u001b[1mOutput Shape          \u001b[0m\u001b[1m \u001b[0m┃\u001b[1m \u001b[0m\u001b[1m      Param #\u001b[0m\u001b[1m \u001b[0m┃\n",
       "┡━━━━━━━━━━━━━━━━━━━━━━━━━━━━━━━━━╇━━━━━━━━━━━━━━━━━━━━━━━━╇━━━━━━━━━━━━━━━┩\n",
       "│ dense (\u001b[38;5;33mDense\u001b[0m)                   │ (\u001b[38;5;45mNone\u001b[0m, \u001b[38;5;34m32\u001b[0m)             │            \u001b[38;5;34m64\u001b[0m │\n",
       "├─────────────────────────────────┼────────────────────────┼───────────────┤\n",
       "│ dense_1 (\u001b[38;5;33mDense\u001b[0m)                 │ (\u001b[38;5;45mNone\u001b[0m, \u001b[38;5;34m32\u001b[0m)             │         \u001b[38;5;34m1,056\u001b[0m │\n",
       "├─────────────────────────────────┼────────────────────────┼───────────────┤\n",
       "│ dense_2 (\u001b[38;5;33mDense\u001b[0m)                 │ (\u001b[38;5;45mNone\u001b[0m, \u001b[38;5;34m32\u001b[0m)             │         \u001b[38;5;34m1,056\u001b[0m │\n",
       "├─────────────────────────────────┼────────────────────────┼───────────────┤\n",
       "│ dense_3 (\u001b[38;5;33mDense\u001b[0m)                 │ (\u001b[38;5;45mNone\u001b[0m, \u001b[38;5;34m1\u001b[0m)              │            \u001b[38;5;34m33\u001b[0m │\n",
       "└─────────────────────────────────┴────────────────────────┴───────────────┘\n"
      ]
     },
     "metadata": {},
     "output_type": "display_data"
    },
    {
     "data": {
      "text/html": [
       "<pre style=\"white-space:pre;overflow-x:auto;line-height:normal;font-family:Menlo,'DejaVu Sans Mono',consolas,'Courier New',monospace\"><span style=\"font-weight: bold\"> Total params: </span><span style=\"color: #00af00; text-decoration-color: #00af00\">2,209</span> (8.63 KB)\n",
       "</pre>\n"
      ],
      "text/plain": [
       "\u001b[1m Total params: \u001b[0m\u001b[38;5;34m2,209\u001b[0m (8.63 KB)\n"
      ]
     },
     "metadata": {},
     "output_type": "display_data"
    },
    {
     "data": {
      "text/html": [
       "<pre style=\"white-space:pre;overflow-x:auto;line-height:normal;font-family:Menlo,'DejaVu Sans Mono',consolas,'Courier New',monospace\"><span style=\"font-weight: bold\"> Trainable params: </span><span style=\"color: #00af00; text-decoration-color: #00af00\">2,209</span> (8.63 KB)\n",
       "</pre>\n"
      ],
      "text/plain": [
       "\u001b[1m Trainable params: \u001b[0m\u001b[38;5;34m2,209\u001b[0m (8.63 KB)\n"
      ]
     },
     "metadata": {},
     "output_type": "display_data"
    },
    {
     "data": {
      "text/html": [
       "<pre style=\"white-space:pre;overflow-x:auto;line-height:normal;font-family:Menlo,'DejaVu Sans Mono',consolas,'Courier New',monospace\"><span style=\"font-weight: bold\"> Non-trainable params: </span><span style=\"color: #00af00; text-decoration-color: #00af00\">0</span> (0.00 B)\n",
       "</pre>\n"
      ],
      "text/plain": [
       "\u001b[1m Non-trainable params: \u001b[0m\u001b[38;5;34m0\u001b[0m (0.00 B)\n"
      ]
     },
     "metadata": {},
     "output_type": "display_data"
    }
   ],
   "source": [
    "# Define the model architecture\n",
    "model = tf.keras.Sequential([\n",
    "    tf.keras.layers.Input(shape=(1,)),\n",
    "    tf.keras.layers.Dense(32, activation='tanh'),\n",
    "    tf.keras.layers.Dense(32, activation='tanh'),\n",
    "    tf.keras.layers.Dense(32, activation='tanh'),\n",
    "    tf.keras.layers.Dense(1)], name='NN')\n",
    "\n",
    "# Print the model summary\n",
    "model.summary()"
   ]
  },
  {
   "cell_type": "code",
   "execution_count": 9,
   "metadata": {},
   "outputs": [
    {
     "name": "stdout",
     "output_type": "stream",
     "text": [
      "-- Start --\n",
      "\n",
      ".........\n",
      "Iteration  3000, Loss: 0.0528\n",
      ".........\n",
      "Iteration  6000, Loss: 0.0286\n",
      ".........\n",
      "Iteration  9000, Loss: 0.0115\n",
      ".........\n",
      "Iteration 12000, Loss: 0.0113\n",
      ".........\n",
      "Iteration 15000, Loss: 0.0089\n",
      ".........\n",
      "Iteration 18000, Loss: 0.0082\n",
      ".........\n",
      "Iteration 21000, Loss: 0.0072\n",
      ".........\n",
      "Iteration 24000, Loss: 0.0051\n",
      ".........\n",
      "Iteration 27000, Loss: 0.0030\n",
      ".........\n",
      "Iteration 30000, Loss: 0.0017\n",
      "\n",
      "Saving the animation...\n",
      "\n",
      "-- End --\n"
     ]
    },
    {
     "data": {
      "image/png": "[encoded data removed]",
      "text/plain": [
       "<Figure size 1000x800 with 1 Axes>"
      ]
     },
     "metadata": {},
     "output_type": "display_data"
    }
   ],
   "source": [
    "# Define parameters for training and animation\n",
    "gamma = 2\n",
    "omega0 = 20\n",
    "ic_x_t0 = 1\n",
    "ic_dx_t0 = -1\n",
    "gif_duration = 5 # seconds\n",
    "\n",
    "# Generate training time points\n",
    "t_train = np.linspace(0, 1, 64)\n",
    "\n",
    "# Define training parameters\n",
    "epochs = int(3e+4)\n",
    "initial_learning_rate = 1e-2\n",
    "final_learning_rate = 1e-5\n",
    "decay_steps = int(1e+2)\n",
    "\n",
    "# Initialize lists to store training loss and frames for the GIF\n",
    "train_loss_record = []\n",
    "frames = []  # List to store frames for the GIF\n",
    "\n",
    "# Convert training time points to tensor\n",
    "t_train_tensor = tf.convert_to_tensor(t_train[:, None], dtype=tf.float32)\n",
    "# Compute the true solution using the oscillator function\n",
    "x_true = oscillator(t_train, ic_x_t0, ic_dx_t0, gamma, omega0)\n",
    "\n",
    "# Define learning rate schedule\n",
    "decay_rate = (final_learning_rate / initial_learning_rate)**(decay_steps / epochs)\n",
    "lr_schedule = tf.keras.optimizers.schedules.ExponentialDecay(\n",
    "    initial_learning_rate=initial_learning_rate,\n",
    "    decay_steps=decay_steps,\n",
    "    decay_rate=decay_rate)\n",
    "# Define the optimizer\n",
    "optm = tf.keras.optimizers.Adam(learning_rate=lr_schedule)\n",
    "\n",
    "# Define parameters for animation\n",
    "fps = 25 # frames per second\n",
    "#NOTE: 1000 / fps (must be a multiple of 10, I whould suggest >= 40)\n",
    "frame_duration = int(1000 / fps)\n",
    "epochs_per_frame = epochs / (gif_duration * fps)\n",
    "adj_epochs = epochs_per_frame\n",
    "\n",
    "# Define the number of prints and dots for the training progress\n",
    "prints = epochs // 10\n",
    "dots = prints // 10\n",
    "digits = len(str(epochs))\n",
    "\n",
    "print(\"-- Start --\\n\")\n",
    "for itr in range(1, epochs+1):\n",
    "    # Record operations for automatic differentiation\n",
    "    with tf.GradientTape() as tape:\n",
    "        # Compute the training loss\n",
    "        train_loss = ode_system(t_train_tensor, model, gamma, omega0, ic_x_t0, ic_dx_t0)\n",
    "        train_loss_record.append(train_loss)\n",
    "\n",
    "        # Compute the gradients of the loss with respect to the model parameters\n",
    "        grad_w = tape.gradient(train_loss, model.trainable_variables)\n",
    "        # Apply the gradients to update the model parameters\n",
    "        optm.apply_gradients(zip(grad_w, model.trainable_variables))\n",
    "\n",
    "    # Create the animation\n",
    "    if itr / adj_epochs >= 1:\n",
    "        adj_epochs += epochs_per_frame\n",
    "        # Predict the position using the model\n",
    "        predicts = model(t_train).numpy().reshape(-1)\n",
    "        # Compute the current time for the animation\n",
    "        time = round((itr * gif_duration) / epochs, 1)\n",
    "        # Plot the true solution and the model predictions\n",
    "        sns.lineplot(x=t_train, y=x_true, color=\"b\")\n",
    "        sns.scatterplot(x=t_train, y=predicts, color=\"r\")\n",
    "        plt.xlabel(\"Time\")\n",
    "        plt.ylabel(\"Position\")\n",
    "        plt.title(f\"Time: {time:.1f} s\")\n",
    "\n",
    "        # Save the plot to the buffer\n",
    "        buf = BytesIO()\n",
    "        plt.savefig(buf, format='png')\n",
    "        buf.seek(0)\n",
    "        # Append the frame to the list of frames\n",
    "        frames.append(imageio.imread(buf))\n",
    "        buf.close()\n",
    "        plt.close()\n",
    "\n",
    "    # Print the training progress\n",
    "    if itr % prints == 0:\n",
    "        print(f\"\\nIteration {itr:{digits}d}, Loss: {train_loss:.4f}\")\n",
    "    elif itr % dots == 0:\n",
    "        print(\".\", end=\"\")\n",
    "\n",
    "# Save the frames as a GIF\n",
    "print(\"\\nSaving the animation...\")\n",
    "imageio.mimsave('training_animation.gif', frames, duration=frame_duration, loop=0)\n",
    "\n",
    "print(\"\\n-- End --\")\n",
    "# Plot the training loss\n",
    "plt.figure(figsize=(10, 8))\n",
    "plt.plot(train_loss_record)\n",
    "plt.xlabel(\"Epochs\")\n",
    "plt.ylabel(\"Loss\")\n",
    "plt.xscale('log')\n",
    "plt.yscale('log')\n",
    "plt.show()"
   ]
  },
  {
   "cell_type": "code",
   "execution_count": null,
   "metadata": {},
   "outputs": [],
   "source": []
  }
 ],
 "metadata": {
  "kernelspec": {
   "display_name": "venv",
   "language": "python",
   "name": "python3"
  },
  "language_info": {
   "codemirror_mode": {
    "name": "ipython",
    "version": 3
   },
   "file_extension": ".py",
   "mimetype": "text/x-python",
   "name": "python",
   "nbconvert_exporter": "python",
   "pygments_lexer": "ipython3",
   "version": "3.12.2"
  }
 },
 "nbformat": 4,
 "nbformat_minor": 2
}
